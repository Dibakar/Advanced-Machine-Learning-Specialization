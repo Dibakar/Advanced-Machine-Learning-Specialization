{
 "cells": [
  {
   "cell_type": "code",
   "execution_count": 1,
   "metadata": {
    "collapsed": true
   },
   "outputs": [],
   "source": [
    "from abc import ABCMeta, abstractmethod, abstractproperty\n",
    "import enum\n",
    "\n",
    "import numpy as np\n",
    "np.set_printoptions(precision=3)\n",
    "np.set_printoptions(suppress=True)\n",
    "\n",
    "import pandas\n",
    "\n",
    "from matplotlib import pyplot as plt\n",
    "%matplotlib inline"
   ]
  },
  {
   "cell_type": "markdown",
   "metadata": {},
   "source": [
    "## Bernoulli Bandit\n",
    "\n",
    "We are going to implement several exploration strategies for simplest problem - bernoulli bandit.\n",
    "\n",
    "The bandit has $K$ actions. Action produce 1.0 reward $r$ with probability $0 \\le \\theta_k \\le 1$ which is unknown to agent, but fixed over time. Agent's objective is to minimize regret over fixed number $T$ of action selections:\n",
    "\n",
    "$$\\rho = T\\theta^* - \\sum_{t=1}^T r_t$$\n",
    "\n",
    "Where $\\theta^* = \\max_k\\{\\theta_k\\}$\n",
    "\n",
    "**Real-world analogy:**\n",
    "\n",
    "Clinical trials - we have $K$ pills and $T$ ill patient. After taking pill, patient is cured with probability $\\theta_k$. Task is to find most efficient pill.\n",
    "\n",
    "A research on clinical trials - https://arxiv.org/pdf/1507.08025.pdf"
   ]
  },
  {
   "cell_type": "code",
   "execution_count": 2,
   "metadata": {
    "collapsed": true
   },
   "outputs": [],
   "source": [
    "class BernoulliBandit:\n",
    "    def __init__(self, n_actions=5):\n",
    "        self._probs = np.random.random(n_actions)\n",
    "        \n",
    "    @property\n",
    "    def action_count(self):\n",
    "        return len(self._probs)\n",
    "    \n",
    "    def pull(self, action):\n",
    "        #if np.random.random() > self._probs[action]:\n",
    "        if np.any(np.random.random() > self._probs[action]):    \n",
    "            return 0.0\n",
    "        return 1.0\n",
    "    \n",
    "    def optimal_reward(self):\n",
    "        \"\"\" Used for regret calculation\n",
    "        \"\"\"\n",
    "        return np.max(self._probs)\n",
    "    \n",
    "    def step(self):\n",
    "        \"\"\" Used in nonstationary version\n",
    "        \"\"\"\n",
    "        pass\n",
    "    \n",
    "    def reset(self):\n",
    "        \"\"\" Used in nonstationary version\n",
    "        \"\"\""
   ]
  },
  {
   "cell_type": "code",
   "execution_count": 3,
   "metadata": {
    "collapsed": true
   },
   "outputs": [],
   "source": [
    "class AbstractAgent(metaclass=ABCMeta):   \n",
    "    def init_actions(self, n_actions):\n",
    "        self._successes = np.zeros(n_actions)\n",
    "        self._failures = np.zeros(n_actions)\n",
    "        self._total_pulls = 0\n",
    "    \n",
    "    @abstractmethod\n",
    "    def get_action(self):\n",
    "        \"\"\"\n",
    "        Get current best action\n",
    "        :rtype: int\n",
    "        \"\"\"\n",
    "        pass\n",
    "    \n",
    "    def update(self, action, reward):\n",
    "        \"\"\"\n",
    "        Observe reward from action and update agent's internal parameters\n",
    "        :type action: int\n",
    "        :type reward: int\n",
    "        \"\"\"\n",
    "        self._total_pulls += 1\n",
    "        if reward == 1:\n",
    "            self._successes[action] += 1\n",
    "        else:\n",
    "            self._failures[action] += 1\n",
    "    \n",
    "    @property\n",
    "    def name(self):\n",
    "        return self.__class__.__name__\n",
    "\n",
    "\n",
    "class RandomAgent(AbstractAgent):    \n",
    "    def get_action(self):\n",
    "        return np.random.randint(0, len(self._successes))"
   ]
  },
  {
   "cell_type": "markdown",
   "metadata": {},
   "source": [
    "### Epsilon-greedy agent\n",
    "\n",
    "> **for** $t = 1,2,...$ **do**\n",
    ">> **for** $k = 1,...,K$ **do**\n",
    ">>> $\\hat\\theta_k \\leftarrow \\alpha_k / (\\alpha_k + \\beta_k)$\n",
    "\n",
    ">> **end for** \n",
    "\n",
    ">> $x_t \\leftarrow argmax_{k}\\hat\\theta$ with probability $1 - \\epsilon$ or random action with probability $\\epsilon$\n",
    "\n",
    ">> Apply $x_t$ and observe $r_t$\n",
    "\n",
    ">> $(\\alpha_{x_t}, \\beta_{x_t}) \\leftarrow (\\alpha_{x_t}, \\beta_{x_t}) + (r_t, 1-r_t)$\n",
    "\n",
    "> **end for**\n",
    "\n",
    "Implement the algorithm above in the cell below:"
   ]
  },
  {
   "cell_type": "code",
   "execution_count": 4,
   "metadata": {
    "collapsed": true
   },
   "outputs": [],
   "source": [
    "class EpsilonGreedyAgent(AbstractAgent):\n",
    "    def __init__(self, epsilon = 0.01):\n",
    "        self._epsilon = epsilon\n",
    "\n",
    "    def get_action(self):\n",
    "        # YOUR CODE HERE\n",
    "        if np.random.random() < self._epsilon:\n",
    "            return np.random.randint(0, len(self._successes))\n",
    "        else:\n",
    "            best_theta=(self._successes[0]+1)/(self._successes[0]+self._failures[0]+1)\n",
    "            greedy_action=0\n",
    "            for action_id in range(len(self._successes)):\n",
    "                theta = (self._successes[action_id]+1)/(self._successes[action_id]+self._failures[action_id]+1)\n",
    "                if (theta > best_theta):\n",
    "                    best_theta = theta\n",
    "                    greedy_action = action_id\n",
    "            return greedy_action\n",
    "        \n",
    "    @property\n",
    "    def name(self):\n",
    "        return self.__class__.__name__ + \"(epsilon={})\".format(self._epsilon) "
   ]
  },
  {
   "cell_type": "markdown",
   "metadata": {},
   "source": [
    "### UCB Agent\n",
    "Epsilon-greedy strategy heve no preference for actions. It would be better to select among actions that are uncertain or have potential to be optimal. One can come up with idea of index for each action that represents otimality and uncertainty at the same time. One efficient way to do it is to use UCB1 algorithm:\n",
    "\n",
    "> **for** $t = 1,2,...$ **do**\n",
    ">> **for** $k = 1,...,K$ **do**\n",
    ">>> $w_k \\leftarrow \\alpha_k / (\\alpha_k + \\beta_k) + \\sqrt{2log\\ t \\ / \\ (\\alpha_k + \\beta_k)}$\n",
    "\n",
    ">> **end for** \n",
    "\n",
    ">> $x_t \\leftarrow argmax_{k}w$\n",
    "\n",
    ">> Apply $x_t$ and observe $r_t$\n",
    "\n",
    ">> $(\\alpha_{x_t}, \\beta_{x_t}) \\leftarrow (\\alpha_{x_t}, \\beta_{x_t}) + (r_t, 1-r_t)$\n",
    "\n",
    "> **end for**\n",
    "\n",
    "\n",
    "__Note:__ in practice, one can multiply $\\sqrt{2log\\ t \\ / \\ (\\alpha_k + \\beta_k)}$ by some tunable parameter to regulate agent's optimism and wilingness to abandon non-promising actions.\n",
    "\n",
    "More versions and optimality analysis - https://homes.di.unimi.it/~cesabian/Pubblicazioni/ml-02.pdf"
   ]
  },
  {
   "cell_type": "code",
   "execution_count": 5,
   "metadata": {
    "collapsed": true
   },
   "outputs": [],
   "source": [
    "#import math\n",
    "\n",
    "class UCBAgent(AbstractAgent):\n",
    "    def get_action(self):\n",
    "        # YOUR CODE HERE\n",
    "        \n",
    "        for action_id in range(len(self._successes)):\n",
    "            if ((self._successes[action_id]+self._failures[action_id]) == 0):\n",
    "                return action_id\n",
    "            \n",
    "        best_theta=(self._successes[0])/(self._successes[0]+self._failures[0]) + np.sqrt(2*np.log(self._total_pulls)/(self._successes[0]+self._failures[0]))\n",
    "        chosen_action=0\n",
    "        for action_id in range(len(self._successes)):\n",
    "            theta = (self._successes[action_id])/(self._successes[action_id]+self._failures[action_id]) + np.sqrt(2*np.log(self._total_pulls)/(self._successes[action_id]+self._failures[action_id]))\n",
    "            \n",
    "            if (theta > best_theta):\n",
    "                best_theta = theta\n",
    "                chosen_action = action_id\n",
    "        return chosen_action\n",
    "                                                                                                                   \n",
    "    @property\n",
    "    def name(self):\n",
    "        return self.__class__.__name__"
   ]
  },
  {
   "cell_type": "markdown",
   "metadata": {},
   "source": [
    "### Thompson sampling\n",
    "\n",
    "UCB1 algorithm does not take into account actual distribution of rewards. If we know the distribution - we can do much better by using Thompson sampling:\n",
    "\n",
    "> **for** $t = 1,2,...$ **do**\n",
    ">> **for** $k = 1,...,K$ **do**\n",
    ">>> Sample $\\hat\\theta_k \\sim beta(\\alpha_k, \\beta_k)$\n",
    "\n",
    ">> **end for** \n",
    "\n",
    ">> $x_t \\leftarrow argmax_{k}\\hat\\theta$\n",
    "\n",
    ">> Apply $x_t$ and observe $r_t$\n",
    "\n",
    ">> $(\\alpha_{x_t}, \\beta_{x_t}) \\leftarrow (\\alpha_{x_t}, \\beta_{x_t}) + (r_t, 1-r_t)$\n",
    "\n",
    "> **end for**\n",
    " \n",
    "\n",
    "More on Tompson Sampling:\n",
    "https://web.stanford.edu/~bvr/pubs/TS_Tutorial.pdf"
   ]
  },
  {
   "cell_type": "code",
   "execution_count": 6,
   "metadata": {
    "collapsed": true
   },
   "outputs": [],
   "source": [
    "class ThompsonSamplingAgent(AbstractAgent):\n",
    "    def get_action(self):\n",
    "        # YOUR CODE HERE\n",
    "        best_theta=np.random.beta(self._successes[0]+1, self._failures[0]+1)\n",
    "        chosen_action=0\n",
    "        for action_id in range(len(self._successes)):\n",
    "            theta = np.random.beta(self._successes[action_id]+1, self._failures[action_id]+1)\n",
    "            if (theta > best_theta):\n",
    "                best_theta = theta\n",
    "                chosen_action = action_id\n",
    "        return chosen_action\n",
    "    @property\n",
    "    def name(self):\n",
    "        return self.__class__.__name__"
   ]
  },
  {
   "cell_type": "code",
   "execution_count": 7,
   "metadata": {
    "collapsed": true
   },
   "outputs": [],
   "source": [
    "from collections import OrderedDict\n",
    "\n",
    "def get_regret(env, agents, n_steps=5000, n_trials=50):\n",
    "    scores = OrderedDict({\n",
    "        agent.name: [0.0 for step in range(n_steps)] for agent in agents\n",
    "    })\n",
    "\n",
    "    for trial in range(n_trials):\n",
    "        env.reset()\n",
    "\n",
    "        for a in agents:\n",
    "            a.init_actions(env.action_count)\n",
    "\n",
    "        for i in range(n_steps):\n",
    "            optimal_reward = env.optimal_reward()\n",
    "\n",
    "            for agent in agents:\n",
    "                action = agent.get_action()\n",
    "                reward = env.pull(action)\n",
    "                agent.update(action, reward)\n",
    "                scores[agent.name][i] += optimal_reward - reward\n",
    "\n",
    "            env.step()  # change bandit's state if it is unstationary\n",
    "\n",
    "    for agent in agents:\n",
    "        scores[agent.name] = np.cumsum(scores[agent.name]) / n_trials\n",
    "\n",
    "    return scores\n",
    "\n",
    "#def plot_regret(scores):\n",
    "#    for agent in agents:\n",
    "#        plt.plot(scores[agent.name])\n",
    "\n",
    "#    plt.legend([agent.name for agent in scores])\n",
    "    \n",
    "#    plt.ylabel(\"regret\")\n",
    "#    plt.xlabel(\"steps\")\n",
    "    \n",
    "#    plt.show()\n",
    "\n",
    "def plot_regret(agents, scores):\n",
    "    for agent in agents:\n",
    "        plt.plot(scores[agent.name])\n",
    "\n",
    "    plt.legend([agent.name for agent in agents])\n",
    "\n",
    "    plt.ylabel(\"regret\")\n",
    "    plt.xlabel(\"steps\")\n",
    "\n",
    "    plt.show()    "
   ]
  },
  {
   "cell_type": "code",
   "execution_count": 12,
   "metadata": {},
   "outputs": [
    {
     "data": {
      "image/png": "[encoded data removed]",
      "text/plain": [
       "<Figure size 432x288 with 1 Axes>"
      ]
     },
     "metadata": {},
     "output_type": "display_data"
    }
   ],
   "source": [
    "# Uncomment agents\n",
    "agents = [\n",
    "     EpsilonGreedyAgent(),\n",
    "     UCBAgent(),\n",
    "     ThompsonSamplingAgent()\n",
    "]\n",
    "\n",
    "#regret = get_regret(BernoulliBandit(), agents, n_steps=10000, n_trials=10)\n",
    "#plot_regret(regret)\n",
    "regret = get_regret(BernoulliBandit(), agents, n_steps=10000, n_trials=10)\n",
    "plot_regret(agents, regret)"
   ]
  },
  {
   "cell_type": "markdown",
   "metadata": {},
   "source": [
    "### Submit to coursera"
   ]
  },
  {
   "cell_type": "code",
   "execution_count": 2,
   "metadata": {},
   "outputs": [
    {
     "ename": "NameError",
     "evalue": "name 'agents' is not defined",
     "output_type": "error",
     "traceback": [
      "\u001b[0;31m---------------------------------------------------------------------------\u001b[0m",
      "\u001b[0;31mNameError\u001b[0m                                 Traceback (most recent call last)",
      "\u001b[0;32m<ipython-input-2-ee7662f7957c>\u001b[0m in \u001b[0;36m<module>\u001b[0;34m()\u001b[0m\n\u001b[1;32m      4\u001b[0m \u001b[0;32mfrom\u001b[0m \u001b[0msubmit\u001b[0m \u001b[0;32mimport\u001b[0m \u001b[0msubmit_bandits\u001b[0m\u001b[0;34m\u001b[0m\u001b[0m\n\u001b[1;32m      5\u001b[0m \u001b[0;34m\u001b[0m\u001b[0m\n\u001b[0;32m----> 6\u001b[0;31m \u001b[0msubmit_bandits\u001b[0m\u001b[0;34m(\u001b[0m\u001b[0magents\u001b[0m\u001b[0;34m,\u001b[0m \u001b[0mregret\u001b[0m\u001b[0;34m,\u001b[0m \u001b[0;34m\"gope@wisc.edu\"\u001b[0m\u001b[0;34m,\u001b[0m \u001b[0;34m\"BvmdkNHxrfARWGTi\"\u001b[0m\u001b[0;34m)\u001b[0m\u001b[0;34m\u001b[0m\u001b[0m\n\u001b[0m",
      "\u001b[0;31mNameError\u001b[0m: name 'agents' is not defined"
     ]
    }
   ],
   "source": [
    "#from submit import submit_bandits\n",
    "\n",
    "#submit_bandits(regret, <EMAIL>, <TOKEN>)\n",
    "from submit import submit_bandits\n",
    "\n",
    "submit_bandits(agents, regret, \"gope@wisc.edu\", \"BvmdkNHxrfARWGTi\")"
   ]
  },
  {
   "cell_type": "code",
   "execution_count": null,
   "metadata": {
    "collapsed": true
   },
   "outputs": [],
   "source": []
  }
 ],
 "metadata": {
  "kernelspec": {
   "display_name": "Python 3",
   "language": "python",
   "name": "python3"
  },
  "language_info": {
   "codemirror_mode": {
    "name": "ipython",
    "version": 3
   },
   "file_extension": ".py",
   "mimetype": "text/x-python",
   "name": "python",
   "nbconvert_exporter": "python",
   "pygments_lexer": "ipython3",
   "version": "3.6.2"
  }
 },
 "nbformat": 4,
 "nbformat_minor": 2
}
